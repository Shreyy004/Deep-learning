{
 "cells": [
  {
   "cell_type": "code",
   "execution_count": null,
   "id": "63ce486c-c659-4401-91b5-609fd51d0a44",
   "metadata": {},
   "outputs": [],
   "source": []
  }
 ],
 "metadata": {
  "kernelspec": {
   "display_name": "",
   "name": ""
  },
  "language_info": {
   "name": ""
  }
 },
 "nbformat": 4,
 "nbformat_minor": 5
}

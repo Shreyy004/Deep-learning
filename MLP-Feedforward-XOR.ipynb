{
 "cells": [
  {
   "cell_type": "markdown",
   "id": "1dc8e3c1-1be5-4a49-8df3-230c83b316ee",
   "metadata": {},
   "source": [
    "# 1.Hardcoding MLP Feedforward Algorithm.\n",
    " Objective: To understand and implement a basic Multi-Layer Perceptron (MLP)\n",
    "feedforward algorithm using Python from scratch without any machine learning\n",
    "libraries."
   ]
  },
  {
   "cell_type": "code",
   "execution_count": 5,
   "id": "396aabf5-2865-4db3-97b9-6ecfe6414c75",
   "metadata": {},
   "outputs": [
    {
     "name": "stdout",
     "output_type": "stream",
     "text": [
      "Input: [0 0], Predicted Output: [[0.00012983]]\n",
      "Input: [0 1], Predicted Output: [[0.99977131]]\n",
      "Input: [1 0], Predicted Output: [[0.99983217]]\n",
      "Input: [1 1], Predicted Output: [[0.00029847]]\n"
     ]
    }
   ],
   "source": [
    "import numpy as np\n",
    "def sigmoid(x):\n",
    "    return 1 / (1 + np.exp(-x))\n",
    "\n",
    "def sigmoid_derivative(x):\n",
    "    return x * (1 - x)\n",
    "\n",
    "class MLP:\n",
    "    def __init__(self, layers, learning_rate=0.01):\n",
    "        self.layers = layers\n",
    "        self.learning_rate = learning_rate\n",
    "        self.weights = []\n",
    "        self.biases = []\n",
    "\n",
    "        for i in range(len(layers) - 1):\n",
    "            self.weights.append(np.random.randn(layers[i], layers[i + 1]) * np.sqrt(2 / layers[i]))\n",
    "            self.biases.append(np.zeros((1, layers[i + 1])))\n",
    "\n",
    "    def feedforward(self, inputs):\n",
    "        activations = [inputs]\n",
    "        current_input = inputs\n",
    "\n",
    "        for i in range(len(self.weights)):\n",
    "            weighted_sum = np.dot(current_input, self.weights[i]) + self.biases[i]\n",
    "            activation = sigmoid(weighted_sum)\n",
    "            activations.append(activation)\n",
    "            current_input = activation\n",
    "\n",
    "        return activations\n",
    "\n",
    "    def backpropagate(self, activations, expected_output):\n",
    "        errors = [expected_output - activations[-1]]  # Output layer error\n",
    "\n",
    "        # Backpropagate errors\n",
    "        for i in range(len(self.layers) - 2, 0, -1):\n",
    "            error = np.dot(errors[0], self.weights[i].T) * sigmoid_derivative(activations[i])\n",
    "            errors.insert(0, error)\n",
    "\n",
    "        \n",
    "        for i in range(len(self.weights)):\n",
    "            self.weights[i] += self.learning_rate * np.dot(activations[i].T, errors[i])\n",
    "            self.biases[i] += self.learning_rate * errors[i]\n",
    "\n",
    "    def train(self, inputs, outputs, epochs):\n",
    "        for epoch in range(epochs):\n",
    "            for input_data, output_data in zip(inputs, outputs):\n",
    "                input_data = input_data.reshape(1, -1)\n",
    "                output_data = output_data.reshape(1, -1)\n",
    "\n",
    "                activations = self.feedforward(input_data)\n",
    "                self.backpropagate(activations, output_data)\n",
    "\n",
    "# XOR inputs and outputs\n",
    "inputs = np.array([[0, 0], [0, 1], [1, 0], [1, 1]])\n",
    "outputs = np.array([[0], [1], [1], [0]])\n",
    "\n",
    "mlp = MLP([2, 6, 1], learning_rate=0.1)  # 6 hidden neurons\n",
    "\n",
    "\n",
    "mlp.train(inputs, outputs, epochs=50000)\n",
    "\n",
    "for input_data in inputs:\n",
    "    output = mlp.feedforward(input_data.reshape(1, -1))[-1]\n",
    "    print(f\"Input: {input_data}, Predicted Output: {output}\")\n"
   ]
  },
  {
   "cell_type": "code",
   "execution_count": null,
   "id": "535b5d7d-2852-4720-8dd5-1660277e98fe",
   "metadata": {},
   "outputs": [],
   "source": []
  }
 ],
 "metadata": {
  "kernelspec": {
   "display_name": "Python 3 (ipykernel)",
   "language": "python",
   "name": "python3"
  },
  "language_info": {
   "codemirror_mode": {
    "name": "ipython",
    "version": 3
   },
   "file_extension": ".py",
   "mimetype": "text/x-python",
   "name": "python",
   "nbconvert_exporter": "python",
   "pygments_lexer": "ipython3",
   "version": "3.9.6"
  }
 },
 "nbformat": 4,
 "nbformat_minor": 5
}
